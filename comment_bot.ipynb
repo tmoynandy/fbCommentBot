{
 "cells": [
  {
   "cell_type": "code",
   "execution_count": 1,
   "metadata": {
    "collapsed": true
   },
   "outputs": [],
   "source": [
    "import pandas as pd\n",
    "import markovify \n",
    "import spacy\n",
    "import re\n",
    "\n",
    "import warnings\n",
    "warnings.filterwarnings('ignore')\n",
    "\n",
    "from time import time\n",
    "import gc"
   ]
  },
  {
   "cell_type": "code",
   "execution_count": 2,
   "metadata": {
    "collapsed": false
   },
   "outputs": [],
   "source": [
    "df1 = pd.read_csv('CommentsJan2017.csv')\n",
    "df2 = pd.read_csv('CommentsFeb2018.csv')\n",
    "df3 = pd.read_csv('CommentsMarch2017.csv')\n",
    "df4 = pd.read_csv('CommentsApril2018.csv')\n",
    "df5 = pd.read_csv('CommentsMay2017.csv')\n",
    "comments = pd.concat([df1, df2, df3, df4, df5])\n",
    "comments.drop_duplicates(subset='commentID', inplace=True)"
   ]
  },
  {
   "cell_type": "code",
   "execution_count": 3,
   "metadata": {
    "collapsed": false
   },
   "outputs": [
    {
     "data": {
      "text/html": [
       "<div>\n",
       "<style scoped>\n",
       "    .dataframe tbody tr th:only-of-type {\n",
       "        vertical-align: middle;\n",
       "    }\n",
       "\n",
       "    .dataframe tbody tr th {\n",
       "        vertical-align: top;\n",
       "    }\n",
       "\n",
       "    .dataframe thead th {\n",
       "        text-align: right;\n",
       "    }\n",
       "</style>\n",
       "<table border=\"1\" class=\"dataframe\">\n",
       "  <thead>\n",
       "    <tr style=\"text-align: right;\">\n",
       "      <th></th>\n",
       "      <th>approveDate</th>\n",
       "      <th>articleID</th>\n",
       "      <th>articleWordCount</th>\n",
       "      <th>commentBody</th>\n",
       "      <th>commentID</th>\n",
       "      <th>commentSequence</th>\n",
       "      <th>commentTitle</th>\n",
       "      <th>commentType</th>\n",
       "      <th>createDate</th>\n",
       "      <th>depth</th>\n",
       "      <th>...</th>\n",
       "      <th>status</th>\n",
       "      <th>timespeople</th>\n",
       "      <th>trusted</th>\n",
       "      <th>typeOfMaterial</th>\n",
       "      <th>updateDate</th>\n",
       "      <th>userDisplayName</th>\n",
       "      <th>userID</th>\n",
       "      <th>userLocation</th>\n",
       "      <th>userTitle</th>\n",
       "      <th>userURL</th>\n",
       "    </tr>\n",
       "  </thead>\n",
       "  <tbody>\n",
       "    <tr>\n",
       "      <th>0</th>\n",
       "      <td>1483455908</td>\n",
       "      <td>58691a5795d0e039260788b9</td>\n",
       "      <td>1324.0</td>\n",
       "      <td>For all you Americans out there --- still rejo...</td>\n",
       "      <td>20969730.0</td>\n",
       "      <td>20969730.0</td>\n",
       "      <td>&lt;br/&gt;</td>\n",
       "      <td>comment</td>\n",
       "      <td>1483426105</td>\n",
       "      <td>1.0</td>\n",
       "      <td>...</td>\n",
       "      <td>approved</td>\n",
       "      <td>1</td>\n",
       "      <td>0</td>\n",
       "      <td>News</td>\n",
       "      <td>1483455908</td>\n",
       "      <td>N. Smith</td>\n",
       "      <td>64679318.0</td>\n",
       "      <td>New York City</td>\n",
       "      <td>NaN</td>\n",
       "      <td>NaN</td>\n",
       "    </tr>\n",
       "    <tr>\n",
       "      <th>1</th>\n",
       "      <td>1483455656</td>\n",
       "      <td>58691a5795d0e039260788b9</td>\n",
       "      <td>1324.0</td>\n",
       "      <td>Obamas policies may prove to be the least of t...</td>\n",
       "      <td>20969325.0</td>\n",
       "      <td>20969325.0</td>\n",
       "      <td>&lt;br/&gt;</td>\n",
       "      <td>comment</td>\n",
       "      <td>1483417407</td>\n",
       "      <td>1.0</td>\n",
       "      <td>...</td>\n",
       "      <td>approved</td>\n",
       "      <td>1</td>\n",
       "      <td>0</td>\n",
       "      <td>News</td>\n",
       "      <td>1483455656</td>\n",
       "      <td>Kilocharlie</td>\n",
       "      <td>69254188.0</td>\n",
       "      <td>Phoenix</td>\n",
       "      <td>NaN</td>\n",
       "      <td>NaN</td>\n",
       "    </tr>\n",
       "    <tr>\n",
       "      <th>2</th>\n",
       "      <td>1483455655</td>\n",
       "      <td>58691a5795d0e039260788b9</td>\n",
       "      <td>1324.0</td>\n",
       "      <td>Democrats are comprised of malcontents who gen...</td>\n",
       "      <td>20969855.0</td>\n",
       "      <td>20969855.0</td>\n",
       "      <td>&lt;br/&gt;</td>\n",
       "      <td>comment</td>\n",
       "      <td>1483431433</td>\n",
       "      <td>1.0</td>\n",
       "      <td>...</td>\n",
       "      <td>approved</td>\n",
       "      <td>1</td>\n",
       "      <td>0</td>\n",
       "      <td>News</td>\n",
       "      <td>1483455655</td>\n",
       "      <td>Frank Fryer</td>\n",
       "      <td>76788711.0</td>\n",
       "      <td>Florida</td>\n",
       "      <td>NaN</td>\n",
       "      <td>NaN</td>\n",
       "    </tr>\n",
       "  </tbody>\n",
       "</table>\n",
       "<p>3 rows × 34 columns</p>\n",
       "</div>"
      ],
      "text/plain": [
       "   approveDate                 articleID  articleWordCount  \\\n",
       "0   1483455908  58691a5795d0e039260788b9            1324.0   \n",
       "1   1483455656  58691a5795d0e039260788b9            1324.0   \n",
       "2   1483455655  58691a5795d0e039260788b9            1324.0   \n",
       "\n",
       "                                         commentBody   commentID  \\\n",
       "0  For all you Americans out there --- still rejo...  20969730.0   \n",
       "1  Obamas policies may prove to be the least of t...  20969325.0   \n",
       "2  Democrats are comprised of malcontents who gen...  20969855.0   \n",
       "\n",
       "   commentSequence commentTitle commentType  createDate  depth   ...     \\\n",
       "0       20969730.0        <br/>     comment  1483426105    1.0   ...      \n",
       "1       20969325.0        <br/>     comment  1483417407    1.0   ...      \n",
       "2       20969855.0        <br/>     comment  1483431433    1.0   ...      \n",
       "\n",
       "     status  timespeople trusted  typeOfMaterial  updateDate userDisplayName  \\\n",
       "0  approved            1       0            News  1483455908        N. Smith   \n",
       "1  approved            1       0            News  1483455656     Kilocharlie   \n",
       "2  approved            1       0            News  1483455655     Frank Fryer   \n",
       "\n",
       "       userID   userLocation  userTitle  userURL  \n",
       "0  64679318.0  New York City        NaN      NaN  \n",
       "1  69254188.0        Phoenix        NaN      NaN  \n",
       "2  76788711.0        Florida        NaN      NaN  \n",
       "\n",
       "[3 rows x 34 columns]"
      ]
     },
     "execution_count": 3,
     "metadata": {},
     "output_type": "execute_result"
    }
   ],
   "source": [
    "comments.head(3)"
   ]
  },
  {
   "cell_type": "code",
   "execution_count": 4,
   "metadata": {
    "collapsed": false
   },
   "outputs": [
    {
     "data": {
      "text/plain": [
       "(1248024, 34)"
      ]
     },
     "execution_count": 4,
     "metadata": {},
     "output_type": "execute_result"
    }
   ],
   "source": [
    "comments.shape"
   ]
  },
  {
   "cell_type": "code",
   "execution_count": 5,
   "metadata": {
    "collapsed": false
   },
   "outputs": [
    {
     "data": {
      "text/plain": [
       "Unknown                  735616\n",
       "Politics                 282375\n",
       "Sunday Review             85761\n",
       "Europe                    29395\n",
       "Middle East               17127\n",
       "Asia Pacific              15672\n",
       "Family                     9475\n",
       "Television                 9435\n",
       "Media                      9354\n",
       "Live                       6204\n",
       "Americas                   6020\n",
       "Economy                    6011\n",
       "Move                       4032\n",
       "Eat                        3264\n",
       "Olympics                   2810\n",
       "DealBook                   2506\n",
       "Art & Design               2417\n",
       "Baseball                   1946\n",
       "Canada                     1930\n",
       "Pro Football               1625\n",
       "Mind                       1442\n",
       "Book Review                1296\n",
       "Africa                     1278\n",
       "Energy & Environment       1264\n",
       "Room For Debate             987\n",
       "Education Life              876\n",
       "Music                       809\n",
       "College Basketball          710\n",
       "Opinion | Politics          683\n",
       "Soccer                      669\n",
       "Name: sectionName, dtype: int64"
      ]
     },
     "execution_count": 5,
     "metadata": {},
     "output_type": "execute_result"
    }
   ],
   "source": [
    "comments.sectionName.value_counts()[:30]"
   ]
  },
  {
   "cell_type": "code",
   "execution_count": 8,
   "metadata": {
    "collapsed": true
   },
   "outputs": [],
   "source": [
    "def preprocess(comments):\n",
    "    commentBody = comments.loc[comments.sectionName=='Europe', 'commentBody']\n",
    "    commentBody = commentBody.str.replace(\"(<br/>)\", \"\")\n",
    "    commentBody = commentBody.str.replace('(<a).*(>).*(</a>)', '')\n",
    "    commentBody = commentBody.str.replace('(&amp)', '')\n",
    "    commentBody = commentBody.str.replace('(&gt)', '')\n",
    "    commentBody = commentBody.str.replace('(&lt)', '')\n",
    "    commentBody = commentBody.str.replace('(\\xa0)', ' ')  \n",
    "    return commentBody"
   ]
  },
  {
   "cell_type": "code",
   "execution_count": 9,
   "metadata": {
    "collapsed": false
   },
   "outputs": [
    {
     "data": {
      "text/plain": [
       "(29395,)"
      ]
     },
     "execution_count": 9,
     "metadata": {},
     "output_type": "execute_result"
    }
   ],
   "source": [
    "commentBody = preprocess(comments)\n",
    "commentBody.shape"
   ]
  },
  {
   "cell_type": "code",
   "execution_count": 10,
   "metadata": {
    "collapsed": false
   },
   "outputs": [
    {
     "data": {
      "text/plain": [
       "545"
      ]
     },
     "execution_count": 10,
     "metadata": {},
     "output_type": "execute_result"
    }
   ],
   "source": [
    "del comments, df1, df2, df3, df4, df5\n",
    "gc.collect()"
   ]
  },
  {
   "cell_type": "code",
   "execution_count": 11,
   "metadata": {
    "collapsed": false
   },
   "outputs": [
    {
     "data": {
      "text/plain": [
       "\"Let's deal with '5 years from now' tomorrow. Maybe we can enjoy just this one day of good news. It's been a long time coming. \""
      ]
     },
     "execution_count": 11,
     "metadata": {},
     "output_type": "execute_result"
    }
   ],
   "source": [
    "commentBody.sample().values[0]"
   ]
  },
  {
   "cell_type": "code",
   "execution_count": 12,
   "metadata": {
    "collapsed": false
   },
   "outputs": [
    {
     "name": "stdout",
     "output_type": "stream",
     "text": [
      "Run time for training the generator : 8.02 seconds\n"
     ]
    }
   ],
   "source": [
    "start_time = time()\n",
    "comments_generator = markovify.Text(commentBody, state_size = 5)\n",
    "print(\"Run time for training the generator : {} seconds\".format(round(time()-start_time, 2)))"
   ]
  },
  {
   "cell_type": "code",
   "execution_count": 13,
   "metadata": {
    "collapsed": true
   },
   "outputs": [],
   "source": [
    "# Print randomly-generated comments using the built model\n",
    "def generate_comments(generator, number=10, short=False):\n",
    "    count = 0\n",
    "    while count < number:\n",
    "        if short:\n",
    "            comment = generator.make_short_sentence(140)\n",
    "        else:\n",
    "            comment = generator.make_sentence()\n",
    "        if comment:\n",
    "            count += 1\n",
    "            print(\"Comment {}\".format(count))\n",
    "            print(comment)\n",
    "            print()\n",
    "    "
   ]
  },
  {
   "cell_type": "code",
   "execution_count": 27,
   "metadata": {
    "collapsed": false
   },
   "outputs": [
    {
     "name": "stdout",
     "output_type": "stream",
     "text": [
      "Comment 1\n",
      "I am ready for it I want something better in this country instead of letting money do all the talking.\n",
      "\n",
      "Comment 2\n",
      "Amazon: Price to earnings ratio about 235.Netflix: Price to earnings ratio about 235.Netflix: Price to earnings ratio about 235.Netflix: Price to earnings ratio about 30.Tesla: No earnings to talk about.\n",
      "\n",
      "Comment 3\n",
      "It is an excuse for tax cuts for the rich have preceded both the 1929 and 2007 depressions.\n",
      "\n",
      "Comment 4\n",
      "Obama inherited an economy that was losing 800,000 jobs a month and it has consistently been gaining 200,000 jobs a month.\n",
      "\n",
      "Comment 5\n",
      "Look at California where there the renewable energy sector is one of the fastest growing small biz and job categories in the nation.\n",
      "\n",
      "Comment 6\n",
      "Of course Trump will act like another one of those rich white guys who was born on third base thinks he hit a triple.\n",
      "\n",
      "Comment 7\n",
      "Despite corrections and bear markets, the stock market goes up the rich, and only the rich get richer.\n",
      "\n",
      "Comment 8\n",
      "I don't know, I pay the highest taxes in the country, and it's still not enough to pay these underfunded pensions.\n",
      "\n",
      "Comment 9\n",
      "That is what is on the agenda, and it is up to him whether he keeps it that way.\n",
      "\n",
      "Comment 10\n",
      "Here is what you need to know about the quality of the jobs added are also important.\n",
      "\n"
     ]
    }
   ],
   "source": [
    "generate_comments(comments_generator)\n"
   ]
  },
  {
   "cell_type": "code",
   "execution_count": 15,
   "metadata": {
    "collapsed": false,
    "scrolled": true
   },
   "outputs": [],
   "source": [
    "nlp = spacy.load('en_core_web_sm')\n",
    "\n",
    "class POSifiedText(markovify.Text):\n",
    "    def word_split(self, sentence):\n",
    "        return [\"::\".join((word.orth_, word.pos_)) for word in nlp(sentence)]\n",
    "\n",
    "    def word_join(self, words):\n",
    "        sentence = \" \".join(word.split(\"::\")[0] for word in words)\n",
    "        return sentence"
   ]
  },
  {
   "cell_type": "code",
   "execution_count": 17,
   "metadata": {
    "collapsed": false
   },
   "outputs": [
    {
     "data": {
      "text/plain": [
       "(4414,)"
      ]
     },
     "execution_count": 17,
     "metadata": {},
     "output_type": "execute_result"
    }
   ],
   "source": [
    "df9= pd.read_csv('CommentsApril2018.csv')\n",
    "commentBody = preprocess(df9)\n",
    "commentBody.shape"
   ]
  },
  {
   "cell_type": "code",
   "execution_count": 18,
   "metadata": {
    "collapsed": false
   },
   "outputs": [
    {
     "data": {
      "text/plain": [
       "237"
      ]
     },
     "execution_count": 18,
     "metadata": {},
     "output_type": "execute_result"
    }
   ],
   "source": [
    "del comments_generator, df9\n",
    "gc.collect()"
   ]
  },
  {
   "cell_type": "code",
   "execution_count": 19,
   "metadata": {
    "collapsed": false
   },
   "outputs": [
    {
     "name": "stdout",
     "output_type": "stream",
     "text": [
      "Run time for training the generator : 441.3 seconds\n"
     ]
    }
   ],
   "source": [
    "start_time = time()\n",
    "comments_generator_POSified = POSifiedText(commentBody, state_size = 2)\n",
    "print(\"Run time for training the generator : {} seconds\".format(round(time()-start_time, 2)))"
   ]
  },
  {
   "cell_type": "code",
   "execution_count": 21,
   "metadata": {
    "collapsed": false
   },
   "outputs": [
    {
     "name": "stdout",
     "output_type": "stream",
     "text": [
      "Comment 1\n",
      "You can always preach on the left .\n",
      "\n",
      "Comment 2\n",
      "I think he knows the influence of big money over our national parks for nothing , nothing for these white , but there are other options offered -   and chemtrails and gmo intake will that to Trump — Birds of a hospital that would never regenerate due to her own with former Eastern Bloc .\n",
      "\n",
      "Comment 3\n",
      "Very rarely are women given the outrage seems to have an incredibly stupid invasion and anyone who offers less than 50 % of his family , are the rule of law by our * in - chief .\n",
      "\n",
      "Comment 4\n",
      "Tough to be replaced by yet another flip flop position , but it seems the entire country from the NSA and other places rebuilt from ashes .\n",
      "\n",
      "Comment 5\n",
      "The monumental consequences for people like Mr. Doudi are entirely against equality or freedom for women , no laborer without rights , he 's totally absurd . Why is Trump , Trump will likely be President .\n",
      "\n",
      "Comment 6\n",
      "It 's time the republicans who accepted positions in this case , the birth of a bumpy ride .\n",
      "\n",
      "Comment 7\n",
      "Larry Kudlow continues to pay for experimental treatments to prolong and maybe save their child , especially in rural and small ways .\n",
      "\n",
      "Comment 8\n",
      "Because it 's the adults who have made a medical view of widespread public knowledge of economics .\n",
      "\n",
      "Comment 9\n",
      "Maybe Macron could set up independent commissions to study and work at rebuilding their countries , to give this malady another name .\n",
      "\n",
      "Comment 10\n",
      "With holding treatment is futile , that has actually used nuclear weapons . If he gets out in your Brilliant observation Georgi Markov defected to an instinct for the good of his agreement .\n",
      "\n"
     ]
    }
   ],
   "source": [
    "generate_comments(comments_generator_POSified)"
   ]
  },
  {
   "cell_type": "code",
   "execution_count": null,
   "metadata": {
    "collapsed": true
   },
   "outputs": [],
   "source": []
  }
 ],
 "metadata": {
  "anaconda-cloud": {},
  "kernelspec": {
   "display_name": "Python [conda env:anaconda3]",
   "language": "python",
   "name": "conda-env-anaconda3-py"
  },
  "language_info": {
   "codemirror_mode": {
    "name": "ipython",
    "version": 3
   },
   "file_extension": ".py",
   "mimetype": "text/x-python",
   "name": "python",
   "nbconvert_exporter": "python",
   "pygments_lexer": "ipython3",
   "version": "3.5.4"
  }
 },
 "nbformat": 4,
 "nbformat_minor": 1
}
